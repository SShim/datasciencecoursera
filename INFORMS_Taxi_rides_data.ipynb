{
  "nbformat": 4,
  "nbformat_minor": 0,
  "metadata": {
    "colab": {
      "name": "INFORMS - Taxi_rides_data.ipynb",
      "version": "0.3.2",
      "provenance": [],
      "collapsed_sections": [],
      "include_colab_link": true
    },
    "kernelspec": {
      "name": "python3",
      "display_name": "Python 3"
    }
  },
  "cells": [
    {
      "cell_type": "markdown",
      "metadata": {
        "id": "view-in-github",
        "colab_type": "text"
      },
      "source": [
        "<a href=\"https://colab.research.google.com/github/SShim/datasciencecoursera/blob/master/INFORMS_Taxi_rides_data.ipynb\" target=\"_parent\"><img src=\"https://colab.research.google.com/assets/colab-badge.svg\" alt=\"Open In Colab\"/></a>"
      ]
    },
    {
      "metadata": {
        "id": "o0cR7wE4EtWS",
        "colab_type": "text"
      },
      "cell_type": "markdown",
      "source": [
        "# Please follow the google form below to enter your name and email to enroll in the competition (must) \n",
        "\n",
        "https://docs.google.com/forms/d/1SW0VnPPnNKFU00gJ6dMN3yKF4Lftqd7vF8ksVd_9ZOM/edit?usp=sharing_eip&ts=5ca6b99a\n"
      ]
    },
    {
      "metadata": {
        "id": "FfiSyHGrGaNl",
        "colab_type": "text"
      },
      "cell_type": "markdown",
      "source": [
        "#Installing a PyDrive -- for google collaboratory to access our files"
      ]
    },
    {
      "metadata": {
        "id": "nx1Oca4bYMaq",
        "colab_type": "code",
        "outputId": "2fd3c300-8a51-4c16-c103-23356ba7caed",
        "colab": {
          "base_uri": "https://localhost:8080/",
          "height": 50
        }
      },
      "cell_type": "code",
      "source": [
        "\n",
        "!pip install -U -q PyDrive\n",
        "from pydrive.auth import GoogleAuth\n",
        "from pydrive.drive import GoogleDrive\n",
        "from google.colab import auth\n",
        "from oauth2client.client import GoogleCredentials"
      ],
      "execution_count": 0,
      "outputs": [
        {
          "output_type": "stream",
          "text": [
            "\u001b[?25l\r\u001b[K    1% |▎                               | 10kB 18.8MB/s eta 0:00:01\r\u001b[K    2% |▋                               | 20kB 3.3MB/s eta 0:00:01\r\u001b[K    3% |█                               | 30kB 4.8MB/s eta 0:00:01\r\u001b[K    4% |█▎                              | 40kB 3.0MB/s eta 0:00:01\r\u001b[K    5% |█▋                              | 51kB 3.7MB/s eta 0:00:01\r\u001b[K    6% |██                              | 61kB 4.4MB/s eta 0:00:01\r\u001b[K    7% |██▎                             | 71kB 5.0MB/s eta 0:00:01\r\u001b[K    8% |██▋                             | 81kB 5.6MB/s eta 0:00:01\r\u001b[K    9% |███                             | 92kB 6.3MB/s eta 0:00:01\r\u001b[K    10% |███▎                            | 102kB 4.9MB/s eta 0:00:01\r\u001b[K    11% |███▋                            | 112kB 5.0MB/s eta 0:00:01\r\u001b[K    12% |████                            | 122kB 6.7MB/s eta 0:00:01\r\u001b[K    13% |████▎                           | 133kB 6.7MB/s eta 0:00:01\r\u001b[K    14% |████▋                           | 143kB 12.4MB/s eta 0:00:01\r\u001b[K    15% |█████                           | 153kB 12.5MB/s eta 0:00:01\r\u001b[K    16% |█████▎                          | 163kB 12.4MB/s eta 0:00:01\r\u001b[K    17% |█████▋                          | 174kB 12.6MB/s eta 0:00:01\r\u001b[K    18% |██████                          | 184kB 12.7MB/s eta 0:00:01\r\u001b[K    19% |██████▎                         | 194kB 12.8MB/s eta 0:00:01\r\u001b[K    20% |██████▋                         | 204kB 13.5MB/s eta 0:00:01\r\u001b[K    21% |███████                         | 215kB 13.6MB/s eta 0:00:01\r\u001b[K    22% |███████▎                        | 225kB 13.6MB/s eta 0:00:01\r\u001b[K    23% |███████▋                        | 235kB 13.8MB/s eta 0:00:01\r\u001b[K    24% |████████                        | 245kB 13.8MB/s eta 0:00:01\r\u001b[K    25% |████████▎                       | 256kB 13.9MB/s eta 0:00:01\r\u001b[K    26% |████████▋                       | 266kB 13.5MB/s eta 0:00:01\r\u001b[K    27% |█████████                       | 276kB 13.6MB/s eta 0:00:01\r\u001b[K    29% |█████████▎                      | 286kB 13.6MB/s eta 0:00:01\r\u001b[K    30% |█████████▋                      | 296kB 13.5MB/s eta 0:00:01\r\u001b[K    31% |██████████                      | 307kB 51.1MB/s eta 0:00:01\r\u001b[K    32% |██████████▎                     | 317kB 54.0MB/s eta 0:00:01\r\u001b[K    33% |██████████▋                     | 327kB 53.4MB/s eta 0:00:01\r\u001b[K    34% |███████████                     | 337kB 54.3MB/s eta 0:00:01\r\u001b[K    35% |███████████▎                    | 348kB 48.1MB/s eta 0:00:01\r\u001b[K    36% |███████████▋                    | 358kB 48.0MB/s eta 0:00:01\r\u001b[K    37% |████████████                    | 368kB 55.1MB/s eta 0:00:01\r\u001b[K    38% |████████████▎                   | 378kB 55.2MB/s eta 0:00:01\r\u001b[K    39% |████████████▋                   | 389kB 56.2MB/s eta 0:00:01\r\u001b[K    40% |█████████████                   | 399kB 18.1MB/s eta 0:00:01\r\u001b[K    41% |█████████████▎                  | 409kB 17.7MB/s eta 0:00:01\r\u001b[K    42% |█████████████▋                  | 419kB 17.7MB/s eta 0:00:01\r\u001b[K    43% |██████████████                  | 430kB 17.8MB/s eta 0:00:01\r\u001b[K    44% |██████████████▎                 | 440kB 17.8MB/s eta 0:00:01\r\u001b[K    45% |██████████████▋                 | 450kB 18.2MB/s eta 0:00:01\r\u001b[K    46% |███████████████                 | 460kB 18.0MB/s eta 0:00:01\r\u001b[K    47% |███████████████▎                | 471kB 18.1MB/s eta 0:00:01\r\u001b[K    48% |███████████████▋                | 481kB 18.1MB/s eta 0:00:01\r\u001b[K    49% |████████████████                | 491kB 18.1MB/s eta 0:00:01\r\u001b[K    50% |████████████████▎               | 501kB 56.6MB/s eta 0:00:01\r\u001b[K    51% |████████████████▋               | 512kB 55.8MB/s eta 0:00:01\r\u001b[K    52% |█████████████████               | 522kB 55.6MB/s eta 0:00:01\r\u001b[K    53% |█████████████████▎              | 532kB 16.6MB/s eta 0:00:01\r\u001b[K    54% |█████████████████▋              | 542kB 16.5MB/s eta 0:00:01\r\u001b[K    55% |██████████████████              | 552kB 16.8MB/s eta 0:00:01\r\u001b[K    57% |██████████████████▎             | 563kB 16.9MB/s eta 0:00:01\r\u001b[K    58% |██████████████████▋             | 573kB 16.6MB/s eta 0:00:01\r\u001b[K    59% |███████████████████             | 583kB 16.4MB/s eta 0:00:01\r\u001b[K    60% |███████████████████▎            | 593kB 16.3MB/s eta 0:00:01\r\u001b[K    61% |███████████████████▋            | 604kB 16.2MB/s eta 0:00:01\r\u001b[K    62% |████████████████████            | 614kB 16.4MB/s eta 0:00:01\r\u001b[K    63% |████████████████████▎           | 624kB 16.1MB/s eta 0:00:01\r\u001b[K    64% |████████████████████▋           | 634kB 49.3MB/s eta 0:00:01\r\u001b[K    65% |█████████████████████           | 645kB 49.6MB/s eta 0:00:01\r\u001b[K    66% |█████████████████████▎          | 655kB 48.4MB/s eta 0:00:01\r\u001b[K    67% |█████████████████████▋          | 665kB 39.6MB/s eta 0:00:01\r\u001b[K    68% |██████████████████████          | 675kB 40.6MB/s eta 0:00:01\r\u001b[K    69% |██████████████████████▎         | 686kB 41.7MB/s eta 0:00:01\r\u001b[K    70% |██████████████████████▋         | 696kB 42.3MB/s eta 0:00:01\r\u001b[K    71% |███████████████████████         | 706kB 43.1MB/s eta 0:00:01\r\u001b[K    72% |███████████████████████▎        | 716kB 44.0MB/s eta 0:00:01\r\u001b[K    73% |███████████████████████▋        | 727kB 46.6MB/s eta 0:00:01\r\u001b[K    74% |████████████████████████        | 737kB 47.6MB/s eta 0:00:01\r\u001b[K    75% |████████████████████████▎       | 747kB 48.0MB/s eta 0:00:01\r\u001b[K    76% |████████████████████████▋       | 757kB 48.6MB/s eta 0:00:01\r\u001b[K    77% |████████████████████████▉       | 768kB 63.8MB/s eta 0:00:01\r\u001b[K    78% |█████████████████████████▏      | 778kB 64.0MB/s eta 0:00:01\r\u001b[K    79% |█████████████████████████▌      | 788kB 60.5MB/s eta 0:00:01\r\u001b[K    80% |█████████████████████████▉      | 798kB 60.6MB/s eta 0:00:01\r\u001b[K    81% |██████████████████████████▏     | 808kB 60.0MB/s eta 0:00:01\r\u001b[K    82% |██████████████████████████▌     | 819kB 60.0MB/s eta 0:00:01\r\u001b[K    83% |██████████████████████████▉     | 829kB 60.8MB/s eta 0:00:01\r\u001b[K    85% |███████████████████████████▏    | 839kB 61.3MB/s eta 0:00:01\r\u001b[K    86% |███████████████████████████▌    | 849kB 61.8MB/s eta 0:00:01\r\u001b[K    87% |███████████████████████████▉    | 860kB 55.2MB/s eta 0:00:01\r\u001b[K    88% |████████████████████████████▏   | 870kB 54.8MB/s eta 0:00:01\r\u001b[K    89% |████████████████████████████▌   | 880kB 56.0MB/s eta 0:00:01\r\u001b[K    90% |████████████████████████████▉   | 890kB 59.2MB/s eta 0:00:01\r\u001b[K    91% |█████████████████████████████▏  | 901kB 59.3MB/s eta 0:00:01\r\u001b[K    92% |█████████████████████████████▌  | 911kB 60.1MB/s eta 0:00:01\r\u001b[K    93% |█████████████████████████████▉  | 921kB 59.6MB/s eta 0:00:01\r\u001b[K    94% |██████████████████████████████▏ | 931kB 58.6MB/s eta 0:00:01\r\u001b[K    95% |██████████████████████████████▌ | 942kB 58.4MB/s eta 0:00:01\r\u001b[K    96% |██████████████████████████████▉ | 952kB 57.8MB/s eta 0:00:01\r\u001b[K    97% |███████████████████████████████▏| 962kB 67.6MB/s eta 0:00:01\r\u001b[K    98% |███████████████████████████████▌| 972kB 68.2MB/s eta 0:00:01\r\u001b[K    99% |███████████████████████████████▉| 983kB 66.8MB/s eta 0:00:01\r\u001b[K    100% |████████████████████████████████| 993kB 21.2MB/s \n",
            "\u001b[?25h  Building wheel for PyDrive (setup.py) ... \u001b[?25ldone\n",
            "\u001b[?25h"
          ],
          "name": "stdout"
        }
      ]
    },
    {
      "metadata": {
        "id": "XMvS7IcQKLVd",
        "colab_type": "code",
        "colab": {}
      },
      "cell_type": "code",
      "source": [
        ""
      ],
      "execution_count": 0,
      "outputs": []
    },
    {
      "metadata": {
        "id": "qBQKusoBuSJy",
        "colab_type": "code",
        "colab": {}
      },
      "cell_type": "code",
      "source": [
        "auth.authenticate_user()\n",
        "gauth = GoogleAuth()\n",
        "gauth.credentials = GoogleCredentials.get_application_default()\n",
        "drive = GoogleDrive(gauth)"
      ],
      "execution_count": 0,
      "outputs": []
    },
    {
      "metadata": {
        "id": "G_RI9dDHuhLZ",
        "colab_type": "text"
      },
      "cell_type": "markdown",
      "source": [
        "# Load all the necessary libraries"
      ]
    },
    {
      "metadata": {
        "id": "ll3nrTRduUS5",
        "colab_type": "code",
        "colab": {}
      },
      "cell_type": "code",
      "source": [
        "import numpy as np\n",
        "import pandas as pd\n",
        "import seaborn as sb\n",
        "import matplotlib.pyplot as plt\n",
        "from matplotlib import style\n",
        "style.use('ggplot')\n",
        "pd.options.display.max_columns = None"
      ],
      "execution_count": 0,
      "outputs": []
    },
    {
      "metadata": {
        "id": "zFi60QVsujYZ",
        "colab_type": "text"
      },
      "cell_type": "markdown",
      "source": [
        "# Load data -- this is shared by Lyft (slightly modified)"
      ]
    },
    {
      "metadata": {
        "id": "_ok4RbJKud8x",
        "colab_type": "code",
        "outputId": "38849db4-9ec6-4489-84d4-58ccbf8adeb0",
        "colab": {
          "base_uri": "https://localhost:8080/",
          "height": 508
        }
      },
      "cell_type": "code",
      "source": [
        "downloaded = drive.CreateFile({'id':'1ggZsYfsFNRAfDTCL38SjwR_bhfozKC1A'}) \n",
        "downloaded.GetContentFile('Ride ID.xlsx')\n",
        "df_ride_id = pd.read_excel('Ride ID.xlsx')\n",
        "print('size = ', df_ride_id.shape)\n",
        "df_ride_id.head(15)"
      ],
      "execution_count": 0,
      "outputs": [
        {
          "output_type": "stream",
          "text": [
            "size =  (970405, 3)\n"
          ],
          "name": "stdout"
        },
        {
          "output_type": "execute_result",
          "data": {
            "text/html": [
              "<div>\n",
              "<style scoped>\n",
              "    .dataframe tbody tr th:only-of-type {\n",
              "        vertical-align: middle;\n",
              "    }\n",
              "\n",
              "    .dataframe tbody tr th {\n",
              "        vertical-align: top;\n",
              "    }\n",
              "\n",
              "    .dataframe thead th {\n",
              "        text-align: right;\n",
              "    }\n",
              "</style>\n",
              "<table border=\"1\" class=\"dataframe\">\n",
              "  <thead>\n",
              "    <tr style=\"text-align: right;\">\n",
              "      <th></th>\n",
              "      <th>ride_id</th>\n",
              "      <th>event</th>\n",
              "      <th>timestamp</th>\n",
              "    </tr>\n",
              "  </thead>\n",
              "  <tbody>\n",
              "    <tr>\n",
              "      <th>0</th>\n",
              "      <td>00003037a262d9ee40e61b5c0718f7f0</td>\n",
              "      <td>requested_at</td>\n",
              "      <td>2016-06-13 09:39:19</td>\n",
              "    </tr>\n",
              "    <tr>\n",
              "      <th>1</th>\n",
              "      <td>00003037a262d9ee40e61b5c0718f7f0</td>\n",
              "      <td>accepted_at</td>\n",
              "      <td>2016-06-13 09:39:51</td>\n",
              "    </tr>\n",
              "    <tr>\n",
              "      <th>2</th>\n",
              "      <td>00003037a262d9ee40e61b5c0718f7f0</td>\n",
              "      <td>arrived_at</td>\n",
              "      <td>2016-06-13 09:44:31</td>\n",
              "    </tr>\n",
              "    <tr>\n",
              "      <th>3</th>\n",
              "      <td>00003037a262d9ee40e61b5c0718f7f0</td>\n",
              "      <td>picked_up_at</td>\n",
              "      <td>2016-06-13 09:44:33</td>\n",
              "    </tr>\n",
              "    <tr>\n",
              "      <th>4</th>\n",
              "      <td>00003037a262d9ee40e61b5c0718f7f0</td>\n",
              "      <td>dropped_off_at</td>\n",
              "      <td>2016-06-13 10:03:05</td>\n",
              "    </tr>\n",
              "    <tr>\n",
              "      <th>5</th>\n",
              "      <td>00005eae40882760d675da5effb89ae3</td>\n",
              "      <td>requested_at</td>\n",
              "      <td>2016-05-14 05:23:21</td>\n",
              "    </tr>\n",
              "    <tr>\n",
              "      <th>6</th>\n",
              "      <td>00005eae40882760d675da5effb89ae3</td>\n",
              "      <td>accepted_at</td>\n",
              "      <td>2016-05-14 05:23:25</td>\n",
              "    </tr>\n",
              "    <tr>\n",
              "      <th>7</th>\n",
              "      <td>00005eae40882760d675da5effb89ae3</td>\n",
              "      <td>arrived_at</td>\n",
              "      <td>2016-05-14 05:26:17</td>\n",
              "    </tr>\n",
              "    <tr>\n",
              "      <th>8</th>\n",
              "      <td>00005eae40882760d675da5effb89ae3</td>\n",
              "      <td>picked_up_at</td>\n",
              "      <td>2016-05-14 05:26:18</td>\n",
              "    </tr>\n",
              "    <tr>\n",
              "      <th>9</th>\n",
              "      <td>00005eae40882760d675da5effb89ae3</td>\n",
              "      <td>dropped_off_at</td>\n",
              "      <td>2016-05-14 05:34:17</td>\n",
              "    </tr>\n",
              "    <tr>\n",
              "      <th>10</th>\n",
              "      <td>000061d42cf29f73b591041d9a1b2973</td>\n",
              "      <td>requested_at</td>\n",
              "      <td>2016-05-16 15:43:09</td>\n",
              "    </tr>\n",
              "    <tr>\n",
              "      <th>11</th>\n",
              "      <td>000061d42cf29f73b591041d9a1b2973</td>\n",
              "      <td>accepted_at</td>\n",
              "      <td>2016-05-16 15:43:14</td>\n",
              "    </tr>\n",
              "    <tr>\n",
              "      <th>12</th>\n",
              "      <td>000061d42cf29f73b591041d9a1b2973</td>\n",
              "      <td>arrived_at</td>\n",
              "      <td>2016-05-16 15:47:29</td>\n",
              "    </tr>\n",
              "    <tr>\n",
              "      <th>13</th>\n",
              "      <td>000061d42cf29f73b591041d9a1b2973</td>\n",
              "      <td>picked_up_at</td>\n",
              "      <td>2016-05-16 15:47:32</td>\n",
              "    </tr>\n",
              "    <tr>\n",
              "      <th>14</th>\n",
              "      <td>000061d42cf29f73b591041d9a1b2973</td>\n",
              "      <td>dropped_off_at</td>\n",
              "      <td>2016-05-16 15:54:18</td>\n",
              "    </tr>\n",
              "  </tbody>\n",
              "</table>\n",
              "</div>"
            ],
            "text/plain": [
              "                             ride_id           event           timestamp\n",
              "0   00003037a262d9ee40e61b5c0718f7f0    requested_at 2016-06-13 09:39:19\n",
              "1   00003037a262d9ee40e61b5c0718f7f0     accepted_at 2016-06-13 09:39:51\n",
              "2   00003037a262d9ee40e61b5c0718f7f0      arrived_at 2016-06-13 09:44:31\n",
              "3   00003037a262d9ee40e61b5c0718f7f0    picked_up_at 2016-06-13 09:44:33\n",
              "4   00003037a262d9ee40e61b5c0718f7f0  dropped_off_at 2016-06-13 10:03:05\n",
              "5   00005eae40882760d675da5effb89ae3    requested_at 2016-05-14 05:23:21\n",
              "6   00005eae40882760d675da5effb89ae3     accepted_at 2016-05-14 05:23:25\n",
              "7   00005eae40882760d675da5effb89ae3      arrived_at 2016-05-14 05:26:17\n",
              "8   00005eae40882760d675da5effb89ae3    picked_up_at 2016-05-14 05:26:18\n",
              "9   00005eae40882760d675da5effb89ae3  dropped_off_at 2016-05-14 05:34:17\n",
              "10  000061d42cf29f73b591041d9a1b2973    requested_at 2016-05-16 15:43:09\n",
              "11  000061d42cf29f73b591041d9a1b2973     accepted_at 2016-05-16 15:43:14\n",
              "12  000061d42cf29f73b591041d9a1b2973      arrived_at 2016-05-16 15:47:29\n",
              "13  000061d42cf29f73b591041d9a1b2973    picked_up_at 2016-05-16 15:47:32\n",
              "14  000061d42cf29f73b591041d9a1b2973  dropped_off_at 2016-05-16 15:54:18"
            ]
          },
          "metadata": {
            "tags": []
          },
          "execution_count": 4
        }
      ]
    },
    {
      "metadata": {
        "id": "uuQPWdCvu4rp",
        "colab_type": "code",
        "outputId": "a9902ced-02fd-41a1-845a-68f4f6a2cc9d",
        "colab": {
          "base_uri": "https://localhost:8080/",
          "height": 252
        }
      },
      "cell_type": "code",
      "source": [
        "downloaded = drive.CreateFile({'id':'18z19_UUrjNBx88bqKeSt7MGqjDdkQXqS'}) \n",
        "downloaded.GetContentFile('Ride details.xlsx')\n",
        "df_rides = pd.read_excel('Ride details.xlsx')\n",
        "print('size = ', df_rides.shape)\n",
        "df_rides.head(6)"
      ],
      "execution_count": 0,
      "outputs": [
        {
          "output_type": "stream",
          "text": [
            "size =  (71968, 4)\n"
          ],
          "name": "stdout"
        },
        {
          "output_type": "execute_result",
          "data": {
            "text/html": [
              "<div>\n",
              "<style scoped>\n",
              "    .dataframe tbody tr th:only-of-type {\n",
              "        vertical-align: middle;\n",
              "    }\n",
              "\n",
              "    .dataframe tbody tr th {\n",
              "        vertical-align: top;\n",
              "    }\n",
              "\n",
              "    .dataframe thead th {\n",
              "        text-align: right;\n",
              "    }\n",
              "</style>\n",
              "<table border=\"1\" class=\"dataframe\">\n",
              "  <thead>\n",
              "    <tr style=\"text-align: right;\">\n",
              "      <th></th>\n",
              "      <th>driver_id</th>\n",
              "      <th>ride_id</th>\n",
              "      <th>ride_distance</th>\n",
              "      <th>ride_prime_time</th>\n",
              "    </tr>\n",
              "  </thead>\n",
              "  <tbody>\n",
              "    <tr>\n",
              "      <th>0</th>\n",
              "      <td>002be0ffdc997bd5c50703158b7c2491</td>\n",
              "      <td>006d61cf7446e682f7bc50b0f8a5bea5</td>\n",
              "      <td>1811</td>\n",
              "      <td>50</td>\n",
              "    </tr>\n",
              "    <tr>\n",
              "      <th>1</th>\n",
              "      <td>002be0ffdc997bd5c50703158b7c2491</td>\n",
              "      <td>01b522c5c3a756fbdb12e95e87507eda</td>\n",
              "      <td>3362</td>\n",
              "      <td>0</td>\n",
              "    </tr>\n",
              "    <tr>\n",
              "      <th>2</th>\n",
              "      <td>002be0ffdc997bd5c50703158b7c2491</td>\n",
              "      <td>029227c4c2971ce69ff2274dc798ef43</td>\n",
              "      <td>3282</td>\n",
              "      <td>0</td>\n",
              "    </tr>\n",
              "    <tr>\n",
              "      <th>3</th>\n",
              "      <td>002be0ffdc997bd5c50703158b7c2491</td>\n",
              "      <td>034e861343a63ac3c18a9ceb1ce0ac69</td>\n",
              "      <td>65283</td>\n",
              "      <td>25</td>\n",
              "    </tr>\n",
              "    <tr>\n",
              "      <th>4</th>\n",
              "      <td>002be0ffdc997bd5c50703158b7c2491</td>\n",
              "      <td>034f2e614a2f9fc7f1c2f77647d1b981</td>\n",
              "      <td>4115</td>\n",
              "      <td>100</td>\n",
              "    </tr>\n",
              "    <tr>\n",
              "      <th>5</th>\n",
              "      <td>002be0ffdc997bd5c50703158b7c2491</td>\n",
              "      <td>03d6b9d80b8a96135cb9b25178e9e203</td>\n",
              "      <td>4832</td>\n",
              "      <td>100</td>\n",
              "    </tr>\n",
              "  </tbody>\n",
              "</table>\n",
              "</div>"
            ],
            "text/plain": [
              "                          driver_id                           ride_id  \\\n",
              "0  002be0ffdc997bd5c50703158b7c2491  006d61cf7446e682f7bc50b0f8a5bea5   \n",
              "1  002be0ffdc997bd5c50703158b7c2491  01b522c5c3a756fbdb12e95e87507eda   \n",
              "2  002be0ffdc997bd5c50703158b7c2491  029227c4c2971ce69ff2274dc798ef43   \n",
              "3  002be0ffdc997bd5c50703158b7c2491  034e861343a63ac3c18a9ceb1ce0ac69   \n",
              "4  002be0ffdc997bd5c50703158b7c2491  034f2e614a2f9fc7f1c2f77647d1b981   \n",
              "5  002be0ffdc997bd5c50703158b7c2491  03d6b9d80b8a96135cb9b25178e9e203   \n",
              "\n",
              "   ride_distance  ride_prime_time  \n",
              "0           1811               50  \n",
              "1           3362                0  \n",
              "2           3282                0  \n",
              "3          65283               25  \n",
              "4           4115              100  \n",
              "5           4832              100  "
            ]
          },
          "metadata": {
            "tags": []
          },
          "execution_count": 9
        }
      ]
    },
    {
      "metadata": {
        "id": "YEMO-yAYxJFO",
        "colab_type": "code",
        "outputId": "70330f43-aa32-48d3-dcd1-1e27445e02e1",
        "colab": {
          "base_uri": "https://localhost:8080/",
          "height": 252
        }
      },
      "cell_type": "code",
      "source": [
        "downloaded = drive.CreateFile({'id':'1zdQ27YSluVR_pavdkNU9TBr3m-6RDfHZ'}) \n",
        "downloaded.GetContentFile('Driver ID.xlsx')\n",
        "df_driver = pd.read_excel('Driver ID.xlsx')\n",
        "print('size = ', df_driver.shape)\n",
        "df_driver.head(6)"
      ],
      "execution_count": 0,
      "outputs": [
        {
          "output_type": "stream",
          "text": [
            "size =  (937, 2)\n"
          ],
          "name": "stdout"
        },
        {
          "output_type": "execute_result",
          "data": {
            "text/html": [
              "<div>\n",
              "<style scoped>\n",
              "    .dataframe tbody tr th:only-of-type {\n",
              "        vertical-align: middle;\n",
              "    }\n",
              "\n",
              "    .dataframe tbody tr th {\n",
              "        vertical-align: top;\n",
              "    }\n",
              "\n",
              "    .dataframe thead th {\n",
              "        text-align: right;\n",
              "    }\n",
              "</style>\n",
              "<table border=\"1\" class=\"dataframe\">\n",
              "  <thead>\n",
              "    <tr style=\"text-align: right;\">\n",
              "      <th></th>\n",
              "      <th>driver_id</th>\n",
              "      <th>driver_onboard_date</th>\n",
              "    </tr>\n",
              "  </thead>\n",
              "  <tbody>\n",
              "    <tr>\n",
              "      <th>0</th>\n",
              "      <td>002be0ffdc997bd5c50703158b7c2491</td>\n",
              "      <td>2016-03-29</td>\n",
              "    </tr>\n",
              "    <tr>\n",
              "      <th>1</th>\n",
              "      <td>007f0389f9c7b03ef97098422f902e62</td>\n",
              "      <td>2016-03-29</td>\n",
              "    </tr>\n",
              "    <tr>\n",
              "      <th>2</th>\n",
              "      <td>011e5c5dfc5c2c92501b8b24d47509bc</td>\n",
              "      <td>2016-04-05</td>\n",
              "    </tr>\n",
              "    <tr>\n",
              "      <th>3</th>\n",
              "      <td>0152a2f305e71d26cc964f8d4411add9</td>\n",
              "      <td>2016-04-23</td>\n",
              "    </tr>\n",
              "    <tr>\n",
              "      <th>4</th>\n",
              "      <td>01674381af7edd264113d4e6ed55ecda</td>\n",
              "      <td>2016-04-29</td>\n",
              "    </tr>\n",
              "    <tr>\n",
              "      <th>5</th>\n",
              "      <td>01788cf817698fe68eaecd7eb18b2f72</td>\n",
              "      <td>2016-05-06</td>\n",
              "    </tr>\n",
              "  </tbody>\n",
              "</table>\n",
              "</div>"
            ],
            "text/plain": [
              "                          driver_id driver_onboard_date\n",
              "0  002be0ffdc997bd5c50703158b7c2491          2016-03-29\n",
              "1  007f0389f9c7b03ef97098422f902e62          2016-03-29\n",
              "2  011e5c5dfc5c2c92501b8b24d47509bc          2016-04-05\n",
              "3  0152a2f305e71d26cc964f8d4411add9          2016-04-23\n",
              "4  01674381af7edd264113d4e6ed55ecda          2016-04-29\n",
              "5  01788cf817698fe68eaecd7eb18b2f72          2016-05-06"
            ]
          },
          "metadata": {
            "tags": []
          },
          "execution_count": 10
        }
      ]
    },
    {
      "metadata": {
        "id": "tZjV7uGgxysH",
        "colab_type": "code",
        "colab": {}
      },
      "cell_type": "code",
      "source": [
        ""
      ],
      "execution_count": 0,
      "outputs": []
    },
    {
      "metadata": {
        "id": "P3rPxAoPEOG-",
        "colab_type": "text"
      },
      "cell_type": "markdown",
      "source": [
        "# Q.1. When did the driver with maximum number of rides joined the organization?"
      ]
    },
    {
      "metadata": {
        "id": "_q2IqleIx-GD",
        "colab_type": "code",
        "colab": {}
      },
      "cell_type": "code",
      "source": [
        ""
      ],
      "execution_count": 0,
      "outputs": []
    },
    {
      "metadata": {
        "id": "0DYHO2DwEQKM",
        "colab_type": "text"
      },
      "cell_type": "markdown",
      "source": [
        "# Q.2. What is the average time between \"Request time\" and \"Pick-up time\"?"
      ]
    },
    {
      "metadata": {
        "id": "c8tpWEvXETjd",
        "colab_type": "code",
        "colab": {}
      },
      "cell_type": "code",
      "source": [
        ""
      ],
      "execution_count": 0,
      "outputs": []
    },
    {
      "metadata": {
        "id": "zzkHIcZfEYbS",
        "colab_type": "text"
      },
      "cell_type": "markdown",
      "source": [
        "# Q.3.Which driver has the maximum average speed?"
      ]
    },
    {
      "metadata": {
        "id": "_UtNIX8VEY8f",
        "colab_type": "code",
        "colab": {}
      },
      "cell_type": "code",
      "source": [
        ""
      ],
      "execution_count": 0,
      "outputs": []
    },
    {
      "metadata": {
        "id": "TqF_rHUkeQFf",
        "colab_type": "text"
      },
      "cell_type": "markdown",
      "source": [
        ""
      ]
    }
  ]
}